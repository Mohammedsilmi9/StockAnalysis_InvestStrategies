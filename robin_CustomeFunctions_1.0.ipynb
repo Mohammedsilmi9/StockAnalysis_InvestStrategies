{
 "cells": [
  {
   "cell_type": "code",
   "execution_count": 2,
   "metadata": {},
   "outputs": [],
   "source": [
    "import json \n",
    "from datetime import datetime\n",
    "import warnings\n",
    "warnings.filterwarnings('ignore')\n",
    "import time\n",
    "import matplotlib.pyplot as plt\n",
    "import pandas as pd\n",
    "from bs4 import BeautifulSoup\n",
    "from pandas import DataFrame\n",
    "import numpy as np\n",
    "import urllib.request\n",
    "import requests\n",
    "import os\n",
    "import io\n",
    "import robin_stocks as robin"
   ]
  },
  {
   "cell_type": "code",
   "execution_count": 3,
   "metadata": {},
   "outputs": [],
   "source": [
    "f=open(\"../authentication/account.txt\",\"r\")\n",
    "lines=f.readlines()\n",
    "username=lines[0].strip()\n",
    "password=lines[1].strip()\n",
    "f.close()\n",
    "login = robin.login(username,password)"
   ]
  },
  {
   "cell_type": "code",
   "execution_count": 69,
   "metadata": {},
   "outputs": [],
   "source": [
    "#get relative mid point update every n periods\n",
    "startTime = time.time()\n",
    "\n",
    "t_end = time.time() + 7 * 3\n",
    "rates=[]\n",
    "times=[]\n",
    "while time.time() < t_end:\n",
    "    time.sleep(1.5)\n",
    "    rates.append(float(current_rate('https://robinhood.com/crypto/3d961844-d360-45fc-989b-f6fca761d511').replace(\"$\",\"\").replace(\",\",\"\")))\n",
    "    times.append(datetime.time(datetime.now()))\n",
    "    time.sleep(1.5)\n",
    "    \n",
    "    \n",
    "executionTime = (time.time() - startTime)\n",
    "print('Execution time in seconds: ' + str(executionTime))  "
   ]
  },
  {
   "cell_type": "code",
   "execution_count": 221,
   "metadata": {},
   "outputs": [],
   "source": [
    "#current_status_table()"
   ]
  },
  {
   "cell_type": "code",
   "execution_count": 219,
   "metadata": {},
   "outputs": [
    {
     "name": "stdout",
     "output_type": "stream",
     "text": [
      "sold : CAN , 30.530552  with : 9.861368296000013 : profit\n",
      "sold : CTRM , 596.827008  with : -7.699068403199947 : profit\n"
     ]
    }
   ],
   "source": [
    "\n",
    "for i,row in enumerate(current_status_table().values):\n",
    "    if(row[4]>0.025):\n",
    "        print('sold :',row[2],\",\",row[1],' with :',row[-1],': profit')\n",
    "    \n",
    "    #robin.order_sell_market(row[2],row[1])"
   ]
  },
  {
   "cell_type": "code",
   "execution_count": 206,
   "metadata": {},
   "outputs": [],
   "source": [
    "def current_rate(lin):\n",
    "    page = requests.get(lin)\n",
    "    time.sleep(1)\n",
    "    soup = BeautifulSoup(page.text, \"html.parser\")\n",
    "    time.sleep(1)\n",
    "    return (soup.find(\"div\", {\"class\":\"QzVHcLdwl2CEuEMpTUFaj\"}).text)"
   ]
  },
  {
   "cell_type": "code",
   "execution_count": null,
   "metadata": {},
   "outputs": [],
   "source": [
    "def current_status_table():\n",
    "    open_positions_Df=pd.DataFrame(robin.get_open_stock_positions())\n",
    "    open_positions_Df['symbol']=open_positions_Df['instrument'].apply(robin.get_symbol_by_url)\n",
    "    open_positions_Df['current_rate']=open_positions_Df['symbol'].apply(robin.get_latest_price)\n",
    "    open_positions_Df['current_rate']=open_positions_Df['current_rate'].apply(lambda x: float(x[0]))\n",
    "    open_positions_Df['average_buy_price']=open_positions_Df['average_buy_price'].apply(lambda x:float(x))\n",
    "    open_positions_Df['quantity']=open_positions_Df['quantity'].apply(lambda x:float(x))\n",
    "    inc=open_positions_Df['current_rate']/open_positions_Df['average_buy_price']\n",
    "    open_positions_Df['percent']=np.where(open_positions_Df['average_buy_price']< open_positions_Df['current_rate'],inc-1,-(1-inc))\n",
    "    open_positions_Df['dollarAmount']=(open_positions_Df['current_rate']-open_positions_Df['average_buy_price'])*open_positions_Df['quantity']\n",
    "    open_positions_Df.drop(inplace=True,axis=1,columns=['intraday_quantity','intraday_average_buy_price','shares_available_for_closing_short_position',\n",
    "                                        'shares_pending_from_options_events',\n",
    "                                        'shares_held_for_options_events',\n",
    "                                        'shares_held_for_options_collateral',\n",
    "                                        'shares_held_for_stock_grants',\n",
    "                                        'shares_held_for_buys','shares_held_for_sells',\n",
    "                                        'pending_average_buy_price','instrument','url',\n",
    "                                        'account','updated_at','account_number',\n",
    "                                        'created_at','shares_available_for_exercise'])\n",
    "    return open_positions_Df"
   ]
  },
  {
   "cell_type": "code",
   "execution_count": 208,
   "metadata": {},
   "outputs": [],
   "source": [
    "#robin.profiles.load_account_profile()['unsettled_debit']\n",
    "##r.stocks.get_instruments_by_symbols('AA')\n",
    "#r.find_instrument_data('SNDL')[0]['name']  \n",
    "#r.profiles.load_account_profile()['cash_available_for_withdrawal']\n",
    "#robin.profiles.load_account_profile()['portfolio_cash']\n",
    "#robin.order('ZOM',1,'buy',timeInForce='gfd')\n",
    "#robin.order_buy_fractional_by_price('ZOM',2,timeInForce='gfd')\n",
    "#'order_buy_crypto_by_price'/'order_sell_crypto_by_price'\n",
    "#robin.load_portfolio_profile()['last_core_equity'],robin.load_portfolio_profile()['extended_hours_equity']\n",
    "#robin.get_latest_price('aa')\n",
    "#param priceType: Can either be 'ask_price' or 'bid_price'.\n",
    "#If this parameter is set, then includeExtendedHours is ignored.\n",
    "#xx=r.get_all_stocks_from_market_tag('top-movers') # get upcoming earnings\n",
    "#dir(robin)\n",
    "#robin.get_fundamentals('zom')\n",
    "#robin.order_buy_fractional_by_price('LAZR',1000,timeInForce='gfd')\n",
    "#robin.get_stock_quote_by_symbol('gmda')\n",
    "#top_movers = pd.DataFrame(robin.get_top_movers())\n",
    "#top_100 = pd.DataFrame(robin.get_top_100())"
   ]
  }
 ],
 "metadata": {
  "kernelspec": {
   "display_name": "Python 3",
   "language": "python",
   "name": "python3"
  },
  "language_info": {
   "codemirror_mode": {
    "name": "ipython",
    "version": 3
   },
   "file_extension": ".py",
   "mimetype": "text/x-python",
   "name": "python",
   "nbconvert_exporter": "python",
   "pygments_lexer": "ipython3",
   "version": "3.7.0"
  }
 },
 "nbformat": 4,
 "nbformat_minor": 4
}
