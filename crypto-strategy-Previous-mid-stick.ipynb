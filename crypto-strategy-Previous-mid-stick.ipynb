{
 "cells": [
  {
   "cell_type": "code",
   "execution_count": 2,
   "metadata": {},
   "outputs": [],
   "source": [
    "import json \n",
    "from datetime import datetime\n",
    "import warnings\n",
    "warnings.filterwarnings('ignore')\n",
    "import time\n",
    "import matplotlib.pyplot as plt\n",
    "import pandas as pd\n",
    "from bs4 import BeautifulSoup\n",
    "from pandas import DataFrame\n",
    "import numpy as np\n",
    "import urllib.request\n",
    "import requests\n",
    "import itertools\n",
    "import os\n",
    "import io\n",
    "import robin_stocks as robin"
   ]
  },
  {
   "cell_type": "code",
   "execution_count": 3,
   "metadata": {},
   "outputs": [],
   "source": [
    "interval_check = ['15second', '5minute', '10minute', 'hour', 'day', 'week']\n",
    "span_check = ['hour', 'day', 'week', 'month', '3month', 'year', '5year']\n",
    "bounds_check = ['24_7', 'extended', 'regular', 'trading']"
   ]
  },
  {
   "cell_type": "code",
   "execution_count": 7,
   "metadata": {},
   "outputs": [],
   "source": [
    "f=open(\"../authentication/account.txt\",\"r\")\n",
    "lines=f.readlines()\n",
    "username=lines[0].strip()\n",
    "password=lines[1].strip()\n",
    "f.close()\n",
    "login = robin.login(username,password)"
   ]
  },
  {
   "cell_type": "code",
   "execution_count": 4,
   "metadata": {},
   "outputs": [],
   "source": []
  },
  {
   "cell_type": "code",
   "execution_count": 12,
   "metadata": {},
   "outputs": [],
   "source": [
    "crypto=robin.get_crypto_historicals(\n",
    "    'BTC',\n",
    "    interval='15second',\n",
    "    span='hour',\n",
    "    bounds='24_7',\n",
    "    info=None,\n",
    ")"
   ]
  },
  {
   "cell_type": "code",
   "execution_count": 19,
   "metadata": {},
   "outputs": [
    {
     "data": {
      "text/plain": [
       "([490.71749999999884,\n",
       "  595.8550000000032,\n",
       "  513.3150000000023,\n",
       "  391.41623300000356,\n",
       "  315.09249999999884],\n",
       " 7043.435079999952)"
      ]
     },
     "execution_count": 19,
     "metadata": {},
     "output_type": "execute_result"
    }
   ],
   "source": [
    "crypto_Mid_prev_stick(crypto,250,-250)"
   ]
  },
  {
   "cell_type": "code",
   "execution_count": 16,
   "metadata": {},
   "outputs": [],
   "source": [
    "def crypto_Mid_prev_stick(crypto,above,below):\n",
    "    begins_at=[]\n",
    "    open_price=[]\n",
    "    close_price=[]\n",
    "    high_price=[]\n",
    "    low_price=[]\n",
    "    volume=[]\n",
    "    session=[]\n",
    "    interpolated=[]\n",
    "    symbol=[]\n",
    "    for rs in crypto:\n",
    "        begins_at.append((rs['begins_at']))\n",
    "        open_price.append(float(rs['open_price']))\n",
    "        close_price.append(float(rs['close_price']))\n",
    "        high_price.append(float(rs['high_price']))\n",
    "        low_price.append(float(rs['low_price']))\n",
    "        volume.append(float(rs['volume']))\n",
    "        session.append((rs['session']))\n",
    "        interpolated.append(float(rs['interpolated']))\n",
    "        symbol.append((rs['symbol']))\n",
    "\n",
    "    df=pd.DataFrame(list(zip(begins_at,open_price,close_price,high_price,low_price,volume,session,interpolated,symbol))\n",
    "                    ,columns=['begins_at','open_price','close_price','high_price',\n",
    "                             'low_price','volume','session','interpolated','symbol'])\n",
    "\n",
    "    df['mid-stick']=(df['high_price']+df['low_price'])/2\n",
    "    df['mid-stick-error']=df['mid-stick'].diff()\n",
    "\n",
    "    df['relative-stick']=df['mid-stick'].shift(periods=1)\n",
    "\n",
    "    df['sell_above']=df['relative-stick']+above\n",
    "    df['buy_under']=df['relative-stick']+below\n",
    "\n",
    "    df=df.drop(axis=1,columns=['relative-stick'])\n",
    "\n",
    "    df['bought'] = np.where(df['buy_under']>= df['low_price'], True, False)\n",
    "    df['sold'] = np.where(df['sell_above']< df['high_price'], True, False)\n",
    "    df_chart=df.drop(axis=1,columns=['symbol','interpolated','session','volume','mid-stick','open_price','close_price'])\n",
    "\n",
    "\n",
    "    w=[]\n",
    "\n",
    "    global status,position\n",
    "    status='out'\n",
    "    position=0\n",
    "\n",
    "    for i,row in enumerate(df_chart.values):\n",
    "        if((df_chart.values[i][6]==True) & (df_chart.values[i][7]==True) & (status!='in')):\n",
    "            w.append(df_chart.values[i][4]-df_chart.values[i][5])\n",
    "            status='out'\n",
    "        if((df_chart.values[i][6]==True) & (df_chart.values[i][7]==True) & (status=='in')):\n",
    "            #we sell\n",
    "            status='out'\n",
    "            w.append(df_chart.values[i][4]-position)\n",
    "            continue\n",
    "        if((df_chart.values[i][6]==False) & (df_chart.values[i][7]==False)):\n",
    "            continue\n",
    "        if((df_chart.values[i][6]==True) & (df_chart.values[i][7]==False) & (status!='in')):\n",
    "            status='in'\n",
    "            position=df_chart.values[i][5]\n",
    "        if((df_chart.values[i][6]==False) & (df_chart.values[i][7]==True) & (status=='in')):\n",
    "            status='out'\n",
    "            w.append(df_chart.values[i][4]-position)\n",
    "            continue\n",
    "        if((df_chart.values[i][6]==False) & (df_chart.values[i][7]==True) & (status!='in')):\n",
    "            continue\n",
    "\n",
    "    return w,np.sum(np.abs(df['mid-stick-error']))"
   ]
  },
  {
   "cell_type": "code",
   "execution_count": 417,
   "metadata": {},
   "outputs": [],
   "source": [
    "#df.plot(x=\"begins_at\", y=[\"sell_above\", \"buy_under\",'high_price','low_price'], kind=\"line\",figsize=(16,6))"
   ]
  },
  {
   "cell_type": "code",
   "execution_count": null,
   "metadata": {},
   "outputs": [],
   "source": []
  },
  {
   "cell_type": "code",
   "execution_count": null,
   "metadata": {},
   "outputs": [],
   "source": [
    "up=[]\n",
    "down=[]\n",
    "money=[]\n",
    "for i in range (125,475,25):\n",
    "    for o in range(-475,-125,25):\n",
    "        x,y=crypto_Mid_prev_stick(crypto,i,o)\n",
    "        up.append(i)\n",
    "        down.append(o)\n",
    "        money.append(np.sum(x))\n",
    "        "
   ]
  }
 ],
 "metadata": {
  "kernelspec": {
   "display_name": "Python 3",
   "language": "python",
   "name": "python3"
  },
  "language_info": {
   "codemirror_mode": {
    "name": "ipython",
    "version": 3
   },
   "file_extension": ".py",
   "mimetype": "text/x-python",
   "name": "python",
   "nbconvert_exporter": "python",
   "pygments_lexer": "ipython3",
   "version": "3.7.0"
  }
 },
 "nbformat": 4,
 "nbformat_minor": 4
}
